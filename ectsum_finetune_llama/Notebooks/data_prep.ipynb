{
 "cells": [
  {
   "cell_type": "code",
   "execution_count": 1,
   "metadata": {},
   "outputs": [
    {
     "name": "stdout",
     "output_type": "stream",
     "text": [
      "Cloning into '../data'...\n",
      "remote: Enumerating objects: 16499, done.\u001b[K\n",
      "remote: Counting objects: 100% (1265/1265), done.\u001b[K\n",
      "remote: Compressing objects: 100% (822/822), done.\u001b[K\n",
      "remote: Total 16499 (delta 507), reused 978 (delta 425), pack-reused 15234\u001b[K\n",
      "Receiving objects: 100% (16499/16499), 26.45 MiB | 22.59 MiB/s, done.\n",
      "Resolving deltas: 100% (6924/6924), done.\n",
      "Updating files: 100% (16592/16592), done.\n"
     ]
    }
   ],
   "source": [
    "# Download earning call transcript\n",
    "# Earning call transcript is available at seekingalpha.com\n",
    "# Origin of the transcript is YAhoo Finance\n",
    "# However ECT Sum benchmark is a consolidated version of the transcript with summary\n",
    "\n",
    "\n",
    "# Clone the repository\n",
    "!git clone https://github.com/rajdeep345/ECTSum.git ../data"
   ]
  },
  {
   "cell_type": "code",
   "execution_count": 41,
   "metadata": {},
   "outputs": [
    {
     "data": {
      "text/plain": [
       "PosixPath('/Users/johnjoy/Documents/Projects - Code/ECT_Sum_Finetune_Llama3/ectsum_finetune_llama/data')"
      ]
     },
     "execution_count": 41,
     "metadata": {},
     "output_type": "execute_result"
    }
   ],
   "source": [
    "# prepare the data\n",
    "import glob\n",
    "import os\n",
    "import pandas as pd\n",
    "from pathlib import Path\n",
    "from tqdm import tqdm\n",
    "\n",
    "\n",
    "# setting the path\n",
    "main_dir = Path(\"./\").absolute().parent/'data'\n",
    "version = ['train', 'val', 'test']\n",
    "main_dir"
   ]
  },
  {
   "cell_type": "code",
   "execution_count": 56,
   "metadata": {},
   "outputs": [],
   "source": [
    "def create_dataframe(data_path:Path,version:str)->pd.DataFrame:\n",
    "    \"\"\"Create a dataframe from the transcript and summary data\n",
    "\n",
    "    Args:\n",
    "        data_path (Path): path to the data directory\n",
    "        version (str): version of the data\n",
    "\n",
    "    Returns:\n",
    "        pd.DataFrame: dataframe containing the transcript and summary data\n",
    "    \"\"\"\n",
    "    transcript_data_path = str(data_path)+f\"/data/final/{version}/ects\"\n",
    "    summary_data_path = str(data_path)+f\"/data/final/{version}/gt_summaries\"\n",
    "    input_text, output_text = [], []\n",
    "    for file in tqdm(glob.glob(transcript_data_path+'/*.txt')):\n",
    "        with open(file, 'r') as f:\n",
    "            input_text.append(f.read())\n",
    "    \n",
    "    for file in tqdm(glob.glob( summary_data_path+'/*.txt')):\n",
    "        with open(file, 'r') as f:\n",
    "            output_text.append(f.read())\n",
    "    data = {'input': input_text, 'output': output_text}\n",
    "    return pd.DataFrame(data)"
   ]
  },
  {
   "cell_type": "code",
   "execution_count": 75,
   "metadata": {},
   "outputs": [],
   "source": [
    "def add_instructions(instructions:list, df:pd.DataFrame):\n",
    "    \"\"\"Add instructions to the dataframe\n",
    "\n",
    "    Args:\n",
    "        instructions (list): list of instructions\n",
    "        df (pd.DataFrame): dataframe\n",
    "\n",
    "    Returns:\n",
    "         pd.DataFrame: dataframe with instructions\n",
    "    \"\"\"\n",
    "    # add the instructions to the dataframe matching the length of the dataframe\n",
    "    df['instruction'] = instructions*(len(df)//len(instructions))+(len(df)%len(instructions))*[instructions[-1]]\n",
    "    return df"
   ]
  },
  {
   "cell_type": "code",
   "execution_count": 77,
   "metadata": {},
   "outputs": [
    {
     "name": "stderr",
     "output_type": "stream",
     "text": [
      "100%|██████████| 1681/1681 [00:00<00:00, 6322.02it/s]\n",
      "100%|██████████| 1681/1681 [00:00<00:00, 9918.51it/s]\n",
      "100%|██████████| 249/249 [00:00<00:00, 7054.77it/s]\n",
      "100%|██████████| 249/249 [00:00<00:00, 20143.92it/s]\n",
      "100%|██████████| 495/495 [00:00<00:00, 7264.25it/s]\n",
      "100%|██████████| 495/495 [00:00<00:00, 16728.01it/s]\n"
     ]
    }
   ],
   "source": [
    "# create a new prompt/ feel free to generate prompts using bigger accurate LLMs\n",
    "instuctions = [\n",
    "    \"Please summarize the key points from the recent earnings call transcript. Focus on financial performance, strategic initiatives, and management's outlook.\",\n",
    "    \"Summarize the key points from the earnings call transcript. Focus on financial performance, strategic initiatives, and management's outlook.\",\n",
    "    \"Summarize call transcript. Focus on financial performance, strategic initiatives, and management's outlook.\",\n",
    "    \"From the earnings call transcript, summarize the key points. Focus on financial performance, strategic initiatives, and management's outlook.\",\n",
    "    \"Summarize precisely the key points from the earnings call transcript. Focus on financial performance, strategic initiatives, and management's outlook.\"\n",
    "]\n",
    "for ver in version:\n",
    "    df = create_dataframe(main_dir, ver)\n",
    "    df = add_instructions(instructions = instuctions, df = df)\n",
    "    df.to_csv(main_dir/f'ectsum_{ver}.csv', index=False)"
   ]
  }
 ],
 "metadata": {
  "kernelspec": {
   "display_name": "llm_work",
   "language": "python",
   "name": "python3"
  },
  "language_info": {
   "codemirror_mode": {
    "name": "ipython",
    "version": 3
   },
   "file_extension": ".py",
   "mimetype": "text/x-python",
   "name": "python",
   "nbconvert_exporter": "python",
   "pygments_lexer": "ipython3",
   "version": "3.8.18"
  }
 },
 "nbformat": 4,
 "nbformat_minor": 2
}
