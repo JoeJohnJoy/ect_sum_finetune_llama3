{
 "cells": [
  {
   "cell_type": "code",
   "execution_count": 2,
   "metadata": {},
   "outputs": [],
   "source": [
    "# load a file and split it into a list of sentences using langchain\n",
    "from pathlib import Path\n",
    "import json\n",
    "from langchain_community.llms import Ollama\n",
    "from tqdm import tqdm\n",
    "import pandas as pd\n",
    "from langchain_core.prompts import ChatPromptTemplate\n",
    "\n",
    "# create a new instance of the Ollama model\n",
    "llm = Ollama(model=\"ft-llama3-quant\") #noqa E1102\n"
   ]
  },
  {
   "cell_type": "code",
   "execution_count": 4,
   "metadata": {},
   "outputs": [
    {
     "data": {
      "text/plain": [
       "input          Joining us today are: Brian Chambers, Owens Co...\n",
       "output         compname reports q1 adjusted earnings per shar...\n",
       "instruction    Please summarize the key points from the recen...\n",
       "Name: 0, dtype: object"
      ]
     },
     "execution_count": 4,
     "metadata": {},
     "output_type": "execute_result"
    }
   ],
   "source": [
    "main_dir = Path(\"./\").absolute().parent/'data'\n",
    "df = pd.read_csv(main_dir/'ectsum_test.csv')\n",
    "df.iloc[0]"
   ]
  },
  {
   "cell_type": "code",
   "execution_count": 7,
   "metadata": {},
   "outputs": [],
   "source": [
    "alpaca_prompt = \"\"\"Below is an instruction that describes a task, paired with an input that provides further context. Write a response that appropriately completes the request.\n",
    "\n",
    "### Instruction:\n",
    "{instruction}\n",
    "\n",
    "### Input:\n",
    "{input}\n",
    "\n",
    "### Response:\n",
    "\"\"\"\n",
    "prompt = ChatPromptTemplate.from_messages([\n",
    "    (\"user\", alpaca_prompt)\n",
    "])\n",
    "\n",
    "# create a new chain\n",
    "chain = prompt | llm\n",
    "chain.invoke({\"instruction\": df.iloc[0][\"instruction\"], \"input\": df.iloc[0][\"input\"]})"
   ]
  },
  {
   "cell_type": "code",
   "execution_count": null,
   "metadata": {},
   "outputs": [],
   "source": []
  },
  {
   "cell_type": "code",
   "execution_count": null,
   "metadata": {},
   "outputs": [],
   "source": []
  }
 ],
 "metadata": {
  "kernelspec": {
   "display_name": "llm_work",
   "language": "python",
   "name": "python3"
  },
  "language_info": {
   "codemirror_mode": {
    "name": "ipython",
    "version": 3
   },
   "file_extension": ".py",
   "mimetype": "text/x-python",
   "name": "python",
   "nbconvert_exporter": "python",
   "pygments_lexer": "ipython3",
   "version": "3.8.18"
  }
 },
 "nbformat": 4,
 "nbformat_minor": 2
}
