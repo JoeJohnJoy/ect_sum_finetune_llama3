{
 "cells": [
  {
   "cell_type": "code",
   "execution_count": 2,
   "metadata": {},
   "outputs": [],
   "source": [
    "# load a file and split it into a list of sentences using langchain\n",
    "from pathlib import Path\n",
    "import json\n",
    "from langchain_community.llms import Ollama\n",
    "from tqdm import tqdm\n",
    "import pandas as pd\n",
    "from langchain_core.prompts import ChatPromptTemplate\n",
    "\n",
    "# create a new instance of the Ollama model\n",
    "llm = Ollama(model=\"ft-llama3-quant\") #noqa E1102\n"
   ]
  },
  {
   "cell_type": "code",
   "execution_count": 4,
   "metadata": {},
   "outputs": [
    {
     "data": {
      "text/plain": [
       "input          Joining us today are: Brian Chambers, Owens Co...\n",
       "output         compname reports q1 adjusted earnings per shar...\n",
       "instruction    Please summarize the key points from the recen...\n",
       "Name: 0, dtype: object"
      ]
     },
     "execution_count": 4,
     "metadata": {},
     "output_type": "execute_result"
    }
   ],
   "source": [
    "main_dir = Path(\"./\").absolute().parent/'data'\n",
    "df = pd.read_csv(main_dir/'ectsum_test.csv')\n",
    "df.iloc[0]"
   ]
  },
  {
   "cell_type": "code",
   "execution_count": 7,
   "metadata": {},
   "outputs": [
    {
     "data": {
      "text/plain": [
       "\"Based on the provided instruction and input, I will analyze the given text, which appears to be a corporate earnings call transcript. Here's my response:\\n\\n**Instruction:** Provide an analysis of the given text, focusing on the company's performance, outlook, and strategic direction.\\n\\n**Input:** The text describes Owens Corning's first quarter performance, provides guidance for the second quarter, and outlines the company's strategy and priorities.\\n\\n**Analysis:**\\n\\n1. **Strong First Quarter Performance**: Owens Corning reported a strong start to the year, driven by robust demand in residential repair and remodeling, new construction, and commercial markets.\\n2. **Second Quarter Outlook**: The company expects another quarter of significant revenue and earnings growth, with prior-year comparisons impacted by pandemic-related market responses.\\n3. **Business Segment Performance**:\\n\\t* Insulation: Expecting strong volume growth (25%) in North American residential construction, mid-teens volume growth in technical and other building insulation businesses, and stable to slightly up pricing.\\n\\t* Composites: Anticipating continued strong volume growth (30%), low-to-mid-single-digit pricing improvement, and similar EBIT margins to Q1.\\n\\t* Roofing: Expecting market growth of 15% to 20%, with mid-to-high single-digit volume growth, improving pricing due to announced price increases, and increasing EBIT margins.\\n4. **Inflation and Pricing**:\\n\\t* Inflation will represent a headwind for the company, particularly in asphalt costs and resin used in components business.\\n\\t* Owens Corning has recently announced additional price increases (8% in Insulation and 5% to 7% in Roofing) to mitigate inflationary pressures.\\n5. **Strategic Direction**:\\n\\t* Prioritizing reinvestment in the business, organic growth initiatives, and capital allocation to generate strong operating and free cash flow.\\n\\t* Evaluating bolt-on acquisitions that leverage commercial, operational, and geographic strengths to expand building and construction product offerings.\\n\\t* Emphasizing material science, building science, and unique product and process technologies to partner with customers and drive growth.\\n\\nOverall, Owens Corning's performance, outlook, and strategic direction suggest a focus on driving growth through organic initiatives, capital allocation, and targeted acquisitions. The company is well-positioned to capitalize on near-term market opportunities and longer-term secular trends that provide multiyear growth opportunities.\""
      ]
     },
     "execution_count": 7,
     "metadata": {},
     "output_type": "execute_result"
    }
   ],
   "source": [
    "alpaca_prompt = \"\"\"Below is an instruction that describes a task, paired with an input that provides further context. Write a response that appropriately completes the request.\n",
    "\n",
    "### Instruction:\n",
    "{instruction}\n",
    "\n",
    "### Input:\n",
    "{input}\n",
    "\n",
    "### Response:\n",
    "\"\"\"\n",
    "prompt = ChatPromptTemplate.from_messages([\n",
    "    (\"user\", alpaca_prompt)\n",
    "])\n",
    "\n",
    "# create a new chain\n",
    "chain = prompt | llm\n",
    "chain.invoke({\"instruction\": df.iloc[0][\"instruction\"], \"input\": df.iloc[0][\"input\"]})"
   ]
  },
  {
   "cell_type": "code",
   "execution_count": null,
   "metadata": {},
   "outputs": [],
   "source": []
  },
  {
   "cell_type": "code",
   "execution_count": null,
   "metadata": {},
   "outputs": [],
   "source": []
  }
 ],
 "metadata": {
  "kernelspec": {
   "display_name": "llm_work",
   "language": "python",
   "name": "python3"
  },
  "language_info": {
   "codemirror_mode": {
    "name": "ipython",
    "version": 3
   },
   "file_extension": ".py",
   "mimetype": "text/x-python",
   "name": "python",
   "nbconvert_exporter": "python",
   "pygments_lexer": "ipython3",
   "version": "3.8.18"
  }
 },
 "nbformat": 4,
 "nbformat_minor": 2
}
